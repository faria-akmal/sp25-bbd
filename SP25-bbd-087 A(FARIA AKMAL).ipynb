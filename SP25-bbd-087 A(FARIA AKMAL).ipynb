{
 "cells": [
  {
   "cell_type": "markdown",
   "id": "51b66abe-325f-4ba2-922b-159df32453c5",
   "metadata": {},
   "source": [
    "# Practice exercises"
   ]
  },
  {
   "cell_type": "markdown",
   "id": "359a0189-d3f7-445f-aa5e-b19f1e175c33",
   "metadata": {},
   "source": [
    "# Question no 01"
   ]
  },
  {
   "cell_type": "markdown",
   "id": "6e417015-8c26-42ce-8fb6-f8906b8c77e8",
   "metadata": {},
   "source": [
    "# create a class person with name,age,city"
   ]
  },
  {
   "cell_type": "code",
   "execution_count": 9,
   "id": "ea11a626-759c-4cfe-86b1-bb53758a3cce",
   "metadata": {},
   "outputs": [
    {
     "name": "stdout",
     "output_type": "stream",
     "text": [
      "faria\n",
      "19\n",
      "islamabad\n"
     ]
    }
   ],
   "source": [
    "class person:\n",
    "    def __init__(self,name,age,city):\n",
    "       self.name=name\n",
    "       self.age=age\n",
    "       self.city=city\n",
    "    def person (self):\n",
    "        print(f\"my name is{self.name}\")\n",
    "my_name=person(\"faria\",\"19\",\"islamabad\")\n",
    "print(my_name.name)\n",
    "print(my_name.age)\n",
    "print(my_name.city)"
   ]
  },
  {
   "cell_type": "markdown",
   "id": "d9c24498-e76d-4330-bfc1-d1030abc0e29",
   "metadata": {},
   "source": [
    "# question no 02"
   ]
  },
  {
   "cell_type": "markdown",
   "id": "781ca9db-1fa5-4e07-bade-3ebaa510ed6a",
   "metadata": {},
   "source": [
    "# create a class car with attributes make,model,year"
   ]
  },
  {
   "cell_type": "code",
   "execution_count": 11,
   "id": "35353885-5de2-4a65-a982-61e27a5c9b67",
   "metadata": {},
   "outputs": [
    {
     "name": "stdout",
     "output_type": "stream",
     "text": [
      "audi\n",
      "a4\n",
      "2020\n"
     ]
    }
   ],
   "source": [
    "class car:\n",
    "    def __init__(self,make,model,year):\n",
    "        self.make=make\n",
    "        self.model=model\n",
    "        self.year=year\n",
    "    def car (self):\n",
    "        print(f\"my car is{self.make}\")\n",
    "my_self=car(\"audi\",\"a4\",\"2020\")\n",
    "print(my_self.make)\n",
    "print(my_self.model)\n",
    "print(my_self.year)"
   ]
  },
  {
   "cell_type": "markdown",
   "id": "0ea6cbd9-464d-4ec1-a1c9-382260ddfee0",
   "metadata": {},
   "source": [
    "# question no 03"
   ]
  },
  {
   "cell_type": "markdown",
   "id": "edd3e5ed-016c-46d7-9630-d323a3d7176b",
   "metadata": {},
   "source": [
    "# Create a class Circle with attributes radius and methods to calculate area and circumference."
   ]
  },
  {
   "cell_type": "code",
   "execution_count": 13,
   "id": "064f09ac-cd83-4630-892c-54cec68f65ab",
   "metadata": {},
   "outputs": [
    {
     "name": "stdout",
     "output_type": "stream",
     "text": [
      "Area: 78.5\n",
      "Circumference: 31.400000000000002\n"
     ]
    }
   ],
   "source": [
    "class Circle:\n",
    "    def __init__(self, r):\n",
    "        self.r = r\n",
    "\n",
    "    def area(self):\n",
    "        return 3.14 * self.r * self.r\n",
    "\n",
    "    def circumference(self):\n",
    "        return 2 * 3.14 * self.r\n",
    "c = Circle(5)\n",
    "print(\"Area:\", c.area())\n",
    "print(\"Circumference:\", c.circumference())\n"
   ]
  },
  {
   "cell_type": "markdown",
   "id": "1ac9f281-3ed0-4527-ab63-1affca9d8adf",
   "metadata": {},
   "source": [
    "# question no 04 "
   ]
  },
  {
   "cell_type": "markdown",
   "id": "25180627-5b70-4718-bedb-9bbbd66baef1",
   "metadata": {},
   "source": [
    "# Create a class Rectangle with attributes length and width and methods to calculate area and perimeter."
   ]
  },
  {
   "cell_type": "code",
   "execution_count": 15,
   "id": "d98efe10-a761-4e79-b1e4-f9f10fe7c9ad",
   "metadata": {},
   "outputs": [
    {
     "name": "stdout",
     "output_type": "stream",
     "text": [
      "Area: 20\n",
      "Perimeter: 18\n"
     ]
    }
   ],
   "source": [
    "class Rectangle:\n",
    "    def __init__(self, l, w):\n",
    "        self.l = l\n",
    "        self.w = w\n",
    "\n",
    "    def area(self):\n",
    "        return self.l * self.w\n",
    "\n",
    "    def perimeter(self):\n",
    "        return 2 * (self.l + self.w)\n",
    "r = Rectangle(4, 5)\n",
    "print(\"Area:\", r.area())\n",
    "print(\"Perimeter:\", r.perimeter())\n"
   ]
  },
  {
   "cell_type": "markdown",
   "id": "ada5ab3a-3446-4d52-917e-ffc006ea125b",
   "metadata": {},
   "source": [
    "# question no 05 "
   ]
  },
  {
   "cell_type": "markdown",
   "id": "a1c223c7-e1e0-46f5-b532-afdbfef04422",
   "metadata": {},
   "source": [
    "# Create a class Student with attributes name, roll_number, and marks. Implement a method to calculate the average marks."
   ]
  },
  {
   "cell_type": "code",
   "execution_count": 17,
   "id": "f51382c1-fc42-496d-bf87-be5ba31fe25e",
   "metadata": {},
   "outputs": [
    {
     "name": "stdout",
     "output_type": "stream",
     "text": [
      "Average Marks: 85.0\n"
     ]
    }
   ],
   "source": [
    "class Student:\n",
    "    def __init__(self, name, roll_number, marks):\n",
    "        self.name = name\n",
    "        self.roll_number = roll_number\n",
    "        self.marks = marks \n",
    "\n",
    "    def average(self):\n",
    "        return sum(self.marks) / len(self.marks)\n",
    "\n",
    "s = Student(\"Alice\", 101, [80, 90, 85])\n",
    "print(\"Average Marks:\", s.average())\n"
   ]
  },
  {
   "cell_type": "markdown",
   "id": "b309e146-c4f2-4922-8ef8-70865fb26220",
   "metadata": {},
   "source": [
    "# question no 06"
   ]
  },
  {
   "cell_type": "markdown",
   "id": "f396b9c4-0cea-469a-958b-89bee89fedf9",
   "metadata": {},
   "source": [
    "# Create a class Book with attributes title, author, and publication_year."
   ]
  },
  {
   "cell_type": "code",
   "execution_count": 18,
   "id": "55aa788e-8d44-4c25-9171-bac72b292489",
   "metadata": {},
   "outputs": [
    {
     "name": "stdout",
     "output_type": "stream",
     "text": [
      "Title: The Great Gatsby\n",
      "Author: F. Scott Fitzgerald\n",
      "Year: 1925\n"
     ]
    }
   ],
   "source": [
    "class Book:\n",
    "    def __init__(self, title, author, year):\n",
    "        self.title = title\n",
    "        self.author = author\n",
    "        self.year = year\n",
    "b = Book(\"The Great Gatsby\", \"F. Scott Fitzgerald\", 1925)\n",
    "print(\"Title:\", b.title)\n",
    "print(\"Author:\", b.author)\n",
    "print(\"Year:\", b.year)"
   ]
  },
  {
   "cell_type": "markdown",
   "id": "d7992c66-b34d-4198-96bb-ec437f602e42",
   "metadata": {},
   "source": [
    "# question no 07"
   ]
  },
  {
   "cell_type": "markdown",
   "id": "9f2c4b7a-7d13-4897-ae02-10f38c133f0c",
   "metadata": {},
   "source": [
    "# Create a class Employee with attributes name, salary, and designation."
   ]
  },
  {
   "cell_type": "code",
   "execution_count": 19,
   "id": "725fc4c9-f988-4f40-b966-f0c2be01e558",
   "metadata": {},
   "outputs": [
    {
     "name": "stdout",
     "output_type": "stream",
     "text": [
      "John 50000 Manager\n"
     ]
    }
   ],
   "source": [
    "class Employee:\n",
    "    def __init__(self, name, salary, designation):\n",
    "        self.name = name\n",
    "        self.salary = salary\n",
    "        self.designation = designation\n",
    "\n",
    "e = Employee(\"John\", 50000, \"Manager\")\n",
    "print(e.name, e.salary, e.designation)\n"
   ]
  },
  {
   "cell_type": "markdown",
   "id": "693dd745-16af-473e-a536-02c1d740dff0",
   "metadata": {},
   "source": [
    "# question no 08"
   ]
  },
  {
   "cell_type": "markdown",
   "id": "92e62e35-c199-42ac-86d0-59ae19491e3d",
   "metadata": {},
   "source": [
    "# Create a class Bank with attributes name, account_number, and balance. Implement methods to deposit and withdraw money."
   ]
  },
  {
   "cell_type": "code",
   "execution_count": 20,
   "id": "c7e16b4d-d62f-426f-a8fb-248d2f31d5be",
   "metadata": {},
   "outputs": [
    {
     "name": "stdout",
     "output_type": "stream",
     "text": [
      "Balance: 1300\n"
     ]
    }
   ],
   "source": [
    "class Bank:\n",
    "    def __init__(self, name, account_number, balance):\n",
    "        self.name = name\n",
    "        self.account_number = account_number\n",
    "        self.balance = balance\n",
    "\n",
    "    def deposit(self, amount):\n",
    "        self.balance += amount\n",
    "\n",
    "    def withdraw(self, amount):\n",
    "        self.balance -= amount\n",
    "b = Bank(\"Alice\", \"123456\", 1000)\n",
    "b.deposit(500)\n",
    "b.withdraw(200)\n",
    "print(\"Balance:\", b.balance)\n"
   ]
  },
  {
   "cell_type": "markdown",
   "id": "fca1b9b1-497c-4213-9628-aa7955493c6b",
   "metadata": {},
   "source": [
    "# question no 09"
   ]
  },
  {
   "cell_type": "markdown",
   "id": "435c4b88-2ae1-4d6d-8739-f9beee98e236",
   "metadata": {},
   "source": [
    " # Create a class Shape with a method to calculate area. Create subclasses Circle, Rectangle, and Triangle that inherit from Shape and implement their specific area calculations."
   ]
  },
  {
   "cell_type": "code",
   "execution_count": 21,
   "id": "17a621fc-930c-45f5-a4e8-5fd00830360c",
   "metadata": {},
   "outputs": [
    {
     "name": "stdout",
     "output_type": "stream",
     "text": [
      "Circle: 28.259999999999998\n",
      "Rectangle: 20\n",
      "Triangle: 6.0\n"
     ]
    }
   ],
   "source": [
    "class Shape:\n",
    "    def area(self):\n",
    "        pass\n",
    "\n",
    "class Circle(Shape):\n",
    "    def __init__(self, r):\n",
    "        self.r = r\n",
    "    def area(self):\n",
    "        return 3.14 * self.r * self.r\n",
    "\n",
    "class Rectangle(Shape):\n",
    "    def __init__(self, l, w):\n",
    "        self.l = l\n",
    "        self.w = w\n",
    "    def area(self):\n",
    "        return self.l * self.w\n",
    "\n",
    "class Triangle(Shape):\n",
    "    def __init__(self, b, h):\n",
    "        self.b = b\n",
    "        self.h = h\n",
    "    def area(self):\n",
    "        return 0.5 * self.b * self.h\n",
    "c = Circle(3)\n",
    "r = Rectangle(4, 5)\n",
    "t = Triangle(6, 2)\n",
    "print(\"Circle:\", c.area())\n",
    "print(\"Rectangle:\", r.area())\n",
    "print(\"Triangle:\", t.area())\n"
   ]
  },
  {
   "cell_type": "markdown",
   "id": "2006e7e3-d0f1-433c-8193-8dcf4868e087",
   "metadata": {},
   "source": [
    "# question no 10 "
   ]
  },
  {
   "cell_type": "markdown",
   "id": "aa728a43-5655-46e7-b05f-2ab653d923e2",
   "metadata": {},
   "source": [
    "# Create a class Animal with attributes name and sound. Create subclasses Dog, Cat, and Cow that inherit from Animal and implement their specific sounds."
   ]
  },
  {
   "cell_type": "code",
   "execution_count": 1,
   "id": "37d42d0c-5913-403f-80ce-95a04dd331d1",
   "metadata": {},
   "outputs": [
    {
     "name": "stdout",
     "output_type": "stream",
     "text": [
      "Buddy says Woof!\n",
      "Whiskers says Meow!\n",
      "Bessie says Moo!\n"
     ]
    }
   ],
   "source": [
    "class Animal:\n",
    "    def __init__(self, name):\n",
    "        self.name = name\n",
    "\n",
    "    def make_sound(self):\n",
    "        print(f\"{self.name} makes a sound.\")\n",
    "\n",
    "class Dog(Animal):\n",
    "    def make_sound(self):\n",
    "        print(f\"{self.name} says Woof!\")\n",
    "\n",
    "class Cat(Animal):\n",
    "    def make_sound(self):\n",
    "        print(f\"{self.name} says Meow!\")\n",
    "\n",
    "class Cow(Animal):\n",
    "    def make_sound(self):\n",
    "        print(f\"{self.name} says Moo!\")\n",
    "dog = Dog(\"Buddy\")\n",
    "cat = Cat(\"Whiskers\")\n",
    "cow = Cow(\"Bessie\")\n",
    "\n",
    "dog.make_sound()\n",
    "cat.make_sound()\n",
    "cow.make_sound()\n"
   ]
  },
  {
   "cell_type": "code",
   "execution_count": null,
   "id": "76efd159-46e9-4a21-b4d4-f8056d352473",
   "metadata": {},
   "outputs": [],
   "source": []
  }
 ],
 "metadata": {
  "kernelspec": {
   "display_name": "Python 3 (ipykernel)",
   "language": "python",
   "name": "python3"
  },
  "language_info": {
   "codemirror_mode": {
    "name": "ipython",
    "version": 3
   },
   "file_extension": ".py",
   "mimetype": "text/x-python",
   "name": "python",
   "nbconvert_exporter": "python",
   "pygments_lexer": "ipython3",
   "version": "3.12.4"
  }
 },
 "nbformat": 4,
 "nbformat_minor": 5
}
